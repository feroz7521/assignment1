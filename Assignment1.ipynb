{
 "cells": [
  {
   "cell_type": "code",
   "execution_count": null,
   "id": "dc0dddf8-138a-47e8-a65a-3d542fb912eb",
   "metadata": {},
   "outputs": [],
   "source": [
    "#Answer1"
   ]
  },
  {
   "cell_type": "code",
   "execution_count": 1,
   "id": "6beabdbf-5aaa-485d-8076-561d04682075",
   "metadata": {},
   "outputs": [],
   "source": [
    "A = \"Feroz\""
   ]
  },
  {
   "cell_type": "code",
   "execution_count": 2,
   "id": "a7f618fd-0548-44eb-b8b9-ae6f918b9899",
   "metadata": {},
   "outputs": [
    {
     "data": {
      "text/plain": [
       "str"
      ]
     },
     "execution_count": 2,
     "metadata": {},
     "output_type": "execute_result"
    }
   ],
   "source": [
    "type(A)"
   ]
  },
  {
   "cell_type": "code",
   "execution_count": 4,
   "id": "448950d9-834f-40e4-ae60-73fb748a9591",
   "metadata": {},
   "outputs": [],
   "source": [
    "l1 = [35,\"feroz\",7.5,True]"
   ]
  },
  {
   "cell_type": "code",
   "execution_count": 5,
   "id": "bc5d9162-fdc4-4457-8661-99552ece26f0",
   "metadata": {},
   "outputs": [
    {
     "data": {
      "text/plain": [
       "list"
      ]
     },
     "execution_count": 5,
     "metadata": {},
     "output_type": "execute_result"
    }
   ],
   "source": [
    "type(l1)"
   ]
  },
  {
   "cell_type": "code",
   "execution_count": 6,
   "id": "66b4deff-63f1-45c8-a23f-0621058a106d",
   "metadata": {},
   "outputs": [],
   "source": [
    "B = 5.56"
   ]
  },
  {
   "cell_type": "code",
   "execution_count": 7,
   "id": "b4b368c6-3a00-4c95-b9f6-efa96b998bc1",
   "metadata": {},
   "outputs": [
    {
     "data": {
      "text/plain": [
       "float"
      ]
     },
     "execution_count": 7,
     "metadata": {},
     "output_type": "execute_result"
    }
   ],
   "source": [
    "type(B)"
   ]
  },
  {
   "cell_type": "code",
   "execution_count": 8,
   "id": "7ed04d9c-ff4b-4a61-8ea2-bb2d323934b6",
   "metadata": {},
   "outputs": [],
   "source": [
    "T1 = (\"feroz\",266,35+35j,[35+35+95],35.35)"
   ]
  },
  {
   "cell_type": "code",
   "execution_count": 9,
   "id": "c95597c4-ae1d-4f32-a3c9-48bb2d6d455c",
   "metadata": {},
   "outputs": [
    {
     "data": {
      "text/plain": [
       "tuple"
      ]
     },
     "execution_count": 9,
     "metadata": {},
     "output_type": "execute_result"
    }
   ],
   "source": [
    "type(T1)"
   ]
  },
  {
   "cell_type": "code",
   "execution_count": null,
   "id": "d3c94b82-f967-4f12-931b-c2bf3cda29eb",
   "metadata": {},
   "outputs": [],
   "source": [
    "#Answer=2"
   ]
  },
  {
   "cell_type": "code",
   "execution_count": null,
   "id": "c8844329-97fb-4995-bd92-80022f46a7d1",
   "metadata": {},
   "outputs": [],
   "source": [
    "#string"
   ]
  },
  {
   "cell_type": "code",
   "execution_count": 6,
   "id": "8a01f6f2-f65e-46f9-aa00-1fd81cd5a6ed",
   "metadata": {},
   "outputs": [],
   "source": [
    "var1 = ''"
   ]
  },
  {
   "cell_type": "code",
   "execution_count": null,
   "id": "ddc11a90-3dbd-4ead-9a8a-02b17c4e0afe",
   "metadata": {},
   "outputs": [],
   "source": [
    "#string"
   ]
  },
  {
   "cell_type": "code",
   "execution_count": 7,
   "id": "49279536-8454-4fe2-8e77-0d721bfff2ba",
   "metadata": {},
   "outputs": [],
   "source": [
    "var2 = '[ds,ml,python]'"
   ]
  },
  {
   "cell_type": "code",
   "execution_count": null,
   "id": "3779a17b-75ed-4e73-b370-648ce2d2610c",
   "metadata": {},
   "outputs": [],
   "source": [
    "#list"
   ]
  },
  {
   "cell_type": "code",
   "execution_count": 14,
   "id": "871c3951-3a36-43bf-9e41-3f63abbc2bcb",
   "metadata": {},
   "outputs": [],
   "source": [
    "var3 = ['ds','ml','python']"
   ]
  },
  {
   "cell_type": "code",
   "execution_count": 10,
   "id": "07ea3255-ea52-4e12-a268-8e330d88ee38",
   "metadata": {},
   "outputs": [],
   "source": [
    "#float"
   ]
  },
  {
   "cell_type": "code",
   "execution_count": 11,
   "id": "db7a849a-760c-4164-a8b4-4f121db99998",
   "metadata": {},
   "outputs": [],
   "source": [
    "var4 = 1.0"
   ]
  },
  {
   "cell_type": "code",
   "execution_count": 12,
   "id": "3d83e071-b7e6-41bc-b8e2-e1d0bd328916",
   "metadata": {},
   "outputs": [],
   "source": [
    "#Answer=3"
   ]
  },
  {
   "cell_type": "code",
   "execution_count": 13,
   "id": "be5d8f6e-6e25-47bb-b0ef-a32963df43e6",
   "metadata": {},
   "outputs": [],
   "source": [
    "# / this operator used for division"
   ]
  },
  {
   "cell_type": "code",
   "execution_count": 14,
   "id": "14f09de6-7694-470a-947c-ecbc3bf58761",
   "metadata": {},
   "outputs": [],
   "source": [
    "a = 10\n",
    "b = 15"
   ]
  },
  {
   "cell_type": "code",
   "execution_count": 18,
   "id": "efc93139-3935-4d53-bda4-3468a2bf8d06",
   "metadata": {},
   "outputs": [
    {
     "data": {
      "text/plain": [
       "1.5"
      ]
     },
     "execution_count": 18,
     "metadata": {},
     "output_type": "execute_result"
    }
   ],
   "source": [
    "b / a"
   ]
  },
  {
   "cell_type": "code",
   "execution_count": null,
   "id": "388f2bcf-1768-46b2-9075-0528cec606f6",
   "metadata": {},
   "outputs": [],
   "source": [
    "# % this operator used for modulus"
   ]
  },
  {
   "cell_type": "code",
   "execution_count": 25,
   "id": "2ee9acee-9993-4a05-8906-edd9e7f72eaf",
   "metadata": {},
   "outputs": [],
   "source": [
    "c = 130\n",
    "d = 50 "
   ]
  },
  {
   "cell_type": "code",
   "execution_count": 26,
   "id": "f1846693-4cd5-4ba7-8b4a-48209aebd489",
   "metadata": {},
   "outputs": [
    {
     "data": {
      "text/plain": [
       "30"
      ]
     },
     "execution_count": 26,
     "metadata": {},
     "output_type": "execute_result"
    }
   ],
   "source": [
    "c % d"
   ]
  },
  {
   "cell_type": "code",
   "execution_count": 27,
   "id": "f297c6b4-ebcc-4259-b495-67789a5ae57f",
   "metadata": {},
   "outputs": [],
   "source": [
    "# // this operator used for floor division"
   ]
  },
  {
   "cell_type": "code",
   "execution_count": 28,
   "id": "2b5a297d-6842-4b96-a2d5-e6bb2e183fde",
   "metadata": {},
   "outputs": [],
   "source": [
    "a = 130\n",
    "b = 50"
   ]
  },
  {
   "cell_type": "code",
   "execution_count": 29,
   "id": "c721cdf5-2626-4ef9-967e-eaa6346d90ff",
   "metadata": {},
   "outputs": [
    {
     "data": {
      "text/plain": [
       "2"
      ]
     },
     "execution_count": 29,
     "metadata": {},
     "output_type": "execute_result"
    }
   ],
   "source": [
    "a // b"
   ]
  },
  {
   "cell_type": "code",
   "execution_count": 30,
   "id": "52594269-7a10-4345-8fbb-407b297c20e3",
   "metadata": {},
   "outputs": [],
   "source": [
    "# ** this operator used for exponentiation"
   ]
  },
  {
   "cell_type": "code",
   "execution_count": 34,
   "id": "9820bc79-0900-4aaf-ae45-2c0b70ffce8c",
   "metadata": {},
   "outputs": [],
   "source": [
    "a = 13\n",
    "b = 5"
   ]
  },
  {
   "cell_type": "code",
   "execution_count": 35,
   "id": "45deb675-be36-49e3-963f-92ed20f04f24",
   "metadata": {},
   "outputs": [
    {
     "data": {
      "text/plain": [
       "1220703125"
      ]
     },
     "execution_count": 35,
     "metadata": {},
     "output_type": "execute_result"
    }
   ],
   "source": [
    "b ** a"
   ]
  },
  {
   "cell_type": "code",
   "execution_count": 36,
   "id": "07d1d7a2-db38-47af-842b-31169254ed4c",
   "metadata": {},
   "outputs": [],
   "source": [
    "# Answer=4"
   ]
  },
  {
   "cell_type": "code",
   "execution_count": 43,
   "id": "2b52e432-97b0-4ab4-b654-f09e4d359b3f",
   "metadata": {},
   "outputs": [
    {
     "name": "stdout",
     "output_type": "stream",
     "text": [
      "35\n",
      "feroz\n",
      "2.5\n",
      "True\n",
      "ashish\n",
      "1\n",
      "False\n",
      "apple\n",
      "55.6\n",
      "48\n"
     ]
    }
   ],
   "source": [
    "l2 = [35,\"feroz\",2.5,True,\"ashish\",1,False,\"apple\",55.6,48]\n",
    "for a in l2 :\n",
    "    print(a)"
   ]
  },
  {
   "cell_type": "code",
   "execution_count": 48,
   "id": "dbe8bbfd-2b59-49e7-b8e6-7c2afd575739",
   "metadata": {},
   "outputs": [],
   "source": [
    "# Answer=5"
   ]
  },
  {
   "cell_type": "code",
   "execution_count": 49,
   "id": "3ad85284-0304-4419-b42b-70d394a4c197",
   "metadata": {},
   "outputs": [],
   "source": [
    "# Answer=6"
   ]
  },
  {
   "cell_type": "code",
   "execution_count": 50,
   "id": "0f6b6671-1021-41f6-b64c-72e2d53c5956",
   "metadata": {},
   "outputs": [
    {
     "data": {
      "text/plain": [
       "[3, 6, 9, 12, 15, 18, 21, 24]"
      ]
     },
     "execution_count": 50,
     "metadata": {},
     "output_type": "execute_result"
    }
   ],
   "source": [
    "l=[1,2,3,4,5,6,7,8,9,10,11,12,13,14,15,16,17,18,19,20,21,22,23,24,25]\n",
    "l1=[]\n",
    "l2=[]\n",
    "for i in l:\n",
    "    if i%3==0:\n",
    "        l1.append(i)\n",
    "    else:\n",
    "            l2.append(i)\n",
    "l1"
   ]
  },
  {
   "cell_type": "code",
   "execution_count": 53,
   "id": "9965e65a-be81-4485-bb44-2d4d5d10d6c2",
   "metadata": {},
   "outputs": [],
   "source": [
    "# Answer=7"
   ]
  },
  {
   "cell_type": "code",
   "execution_count": 54,
   "id": "ed4f0141-e688-49b4-8161-690f96c636f5",
   "metadata": {},
   "outputs": [],
   "source": [
    "# Mutable can be changed"
   ]
  },
  {
   "cell_type": "code",
   "execution_count": 55,
   "id": "f6efb226-0868-4539-851c-1d4ece5f2c32",
   "metadata": {},
   "outputs": [],
   "source": [
    "l1 = [25,'feroz',56+74j,'father',2.6,12,23,\"mother\"]"
   ]
  },
  {
   "cell_type": "code",
   "execution_count": 58,
   "id": "535bb9ba-194b-485a-b91f-677383619266",
   "metadata": {},
   "outputs": [
    {
     "data": {
      "text/plain": [
       "'father'"
      ]
     },
     "execution_count": 58,
     "metadata": {},
     "output_type": "execute_result"
    }
   ],
   "source": [
    "l1[3]"
   ]
  },
  {
   "cell_type": "code",
   "execution_count": 61,
   "id": "57a6423f-d3ff-4f17-9d3d-7bc26d2ef220",
   "metadata": {},
   "outputs": [],
   "source": [
    "l1[3] = 'mohd rafiq'\n",
    "l1[-1] = \"yasmeen naz\""
   ]
  },
  {
   "cell_type": "code",
   "execution_count": 62,
   "id": "04926484-fd57-4ccd-bcae-f9593cd52e51",
   "metadata": {},
   "outputs": [
    {
     "name": "stdout",
     "output_type": "stream",
     "text": [
      "[25, 'feroz', (56+74j), 'mohd rafiq', 2.6, 12, 23, 'yasmeen naz']\n"
     ]
    }
   ],
   "source": [
    "print(l1)"
   ]
  },
  {
   "cell_type": "code",
   "execution_count": 63,
   "id": "1c84e807-0f04-4312-b487-8388da923d44",
   "metadata": {},
   "outputs": [],
   "source": [
    "#Immutable can not be changed"
   ]
  },
  {
   "cell_type": "code",
   "execution_count": 74,
   "id": "cce98234-e376-4c56-884c-bc662d774bd8",
   "metadata": {},
   "outputs": [],
   "source": [
    "t1 = (25,'feroz',56+74j,'father',2.6,[12,23],\"mother\")"
   ]
  },
  {
   "cell_type": "code",
   "execution_count": 75,
   "id": "05021e2a-cd76-461b-9eaf-685177f3d1a3",
   "metadata": {},
   "outputs": [
    {
     "data": {
      "text/plain": [
       "tuple"
      ]
     },
     "execution_count": 75,
     "metadata": {},
     "output_type": "execute_result"
    }
   ],
   "source": [
    "type(t1)"
   ]
  },
  {
   "cell_type": "code",
   "execution_count": 76,
   "id": "48bfdebd-6734-4209-bbc4-a94b61a474b7",
   "metadata": {},
   "outputs": [
    {
     "data": {
      "text/plain": [
       "'father'"
      ]
     },
     "execution_count": 76,
     "metadata": {},
     "output_type": "execute_result"
    }
   ],
   "source": [
    "t1[3]"
   ]
  },
  {
   "cell_type": "code",
   "execution_count": 77,
   "id": "43fba0d7-5a67-4347-bd69-8f971c920902",
   "metadata": {},
   "outputs": [
    {
     "ename": "TypeError",
     "evalue": "'tuple' object does not support item assignment",
     "output_type": "error",
     "traceback": [
      "\u001b[0;31m---------------------------------------------------------------------------\u001b[0m",
      "\u001b[0;31mTypeError\u001b[0m                                 Traceback (most recent call last)",
      "Cell \u001b[0;32mIn[77], line 1\u001b[0m\n\u001b[0;32m----> 1\u001b[0m \u001b[43mt1\u001b[49m\u001b[43m[\u001b[49m\u001b[38;5;241;43m3\u001b[39;49m\u001b[43m]\u001b[49m \u001b[38;5;241m=\u001b[39m \u001b[38;5;124m'\u001b[39m\u001b[38;5;124mmd rafiq\u001b[39m\u001b[38;5;124m'\u001b[39m\n",
      "\u001b[0;31mTypeError\u001b[0m: 'tuple' object does not support item assignment"
     ]
    }
   ],
   "source": [
    "t1[3] = 'md rafiq'"
   ]
  },
  {
   "cell_type": "code",
   "execution_count": null,
   "id": "ced7eda7-ac46-4eb4-85e2-f365c31e2b9a",
   "metadata": {},
   "outputs": [],
   "source": []
  }
 ],
 "metadata": {
  "kernelspec": {
   "display_name": "Python 3 (ipykernel)",
   "language": "python",
   "name": "python3"
  },
  "language_info": {
   "codemirror_mode": {
    "name": "ipython",
    "version": 3
   },
   "file_extension": ".py",
   "mimetype": "text/x-python",
   "name": "python",
   "nbconvert_exporter": "python",
   "pygments_lexer": "ipython3",
   "version": "3.10.8"
  }
 },
 "nbformat": 4,
 "nbformat_minor": 5
}
